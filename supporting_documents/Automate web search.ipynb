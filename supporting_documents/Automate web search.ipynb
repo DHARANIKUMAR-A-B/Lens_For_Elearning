{
 "cells": [
  {
   "cell_type": "code",
   "execution_count": 5,
   "id": "edaeda86",
   "metadata": {},
   "outputs": [
    {
     "name": "stdout",
     "output_type": "stream",
     "text": [
      "Input the URL or string you want to search for:Artificial Intelligence\n"
     ]
    }
   ],
   "source": [
    "from selenium import webdriver\n",
    "\n",
    "# Taking input from user\n",
    "search_string = input(\"Input the URL or string you want to search for:\")\n",
    "search_string = search_string.replace(' ', '+')\n",
    "\n",
    "# Assigning the browser variable with chromedriver of Chrome.\n",
    "# Any other browser and its respective webdriver\n",
    "# like geckodriver for Mozilla Firefox can be used\n",
    "browser = webdriver.Chrome('chromedriver')\n",
    "\n",
    "for i in range(1):\n",
    "    matched_elements = browser.get(\"https://www.google.com/search?q=\" + search_string + \"&start=\" + str(i))\n"
   ]
  },
  {
   "cell_type": "code",
   "execution_count": null,
   "id": "6b49fd00",
   "metadata": {},
   "outputs": [],
   "source": []
  }
 ],
 "metadata": {
  "kernelspec": {
   "display_name": "Python 3",
   "language": "python",
   "name": "python3"
  },
  "language_info": {
   "codemirror_mode": {
    "name": "ipython",
    "version": 3
   },
   "file_extension": ".py",
   "mimetype": "text/x-python",
   "name": "python",
   "nbconvert_exporter": "python",
   "pygments_lexer": "ipython3",
   "version": "3.8.8"
  }
 },
 "nbformat": 4,
 "nbformat_minor": 5
}
