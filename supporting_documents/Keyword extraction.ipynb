{
 "cells": [
  {
   "cell_type": "code",
   "execution_count": 14,
   "id": "046732e0",
   "metadata": {},
   "outputs": [],
   "source": [
    "import nltk\n",
    "from nltk import tokenize\n",
    "from operator import itemgetter\n",
    "from nltk.corpus import stopwords\n",
    "from nltk.tokenize import word_tokenize\n",
    "from gensim.parsing.preprocessing import remove_stopwords\n",
    "import math\n",
    "stop_words = set(stopwords.words('english'))"
   ]
  },
  {
   "cell_type": "code",
   "execution_count": 39,
   "id": "875175da",
   "metadata": {},
   "outputs": [],
   "source": [
    "doc = \"To retrieve an information chat-bot is used and is mainly motivated on processing a user queries with the help of defined text document. User can go either for text based information retrieval or voice based retrieval. by matching them with the document.This project provides knowledge about the institution and mainly useful for students, parents, faculties, and any external users to ask queries and also it is helpful to know the college details without any physical contact.\""
   ]
  },
  {
   "cell_type": "code",
   "execution_count": 40,
   "id": "a6e1e0a2",
   "metadata": {},
   "outputs": [
    {
     "name": "stdout",
     "output_type": "stream",
     "text": [
      "to retrieve an information chat-bot is used and is mainly motivated on processing a user queries with the help of defined text document. user can go either for text based information retrieval or voice based retrieval. by matching them with the document.this project provides knowledge about the institution and mainly useful for students, parents, faculties, and any external users to ask queries and also it is helpful to know the college details without any physical contact.\n"
     ]
    }
   ],
   "source": [
    "doc = doc.lower()\n",
    "print(doc)\n",
    "key = remove_stopwords(doc)"
   ]
  },
  {
   "cell_type": "code",
   "execution_count": 41,
   "id": "406e3812",
   "metadata": {},
   "outputs": [
    {
     "name": "stdout",
     "output_type": "stream",
     "text": [
      "76\n"
     ]
    }
   ],
   "source": [
    "total_words = doc.split()\n",
    "total_word_length = len(total_words)\n",
    "print(total_word_length)"
   ]
  },
  {
   "cell_type": "code",
   "execution_count": 42,
   "id": "305d87f8",
   "metadata": {},
   "outputs": [
    {
     "name": "stdout",
     "output_type": "stream",
     "text": [
      "3\n"
     ]
    }
   ],
   "source": [
    "total_sentences = tokenize.sent_tokenize(doc)\n",
    "total_sent_len = len(total_sentences)\n",
    "print(total_sent_len)"
   ]
  },
  {
   "cell_type": "code",
   "execution_count": 43,
   "id": "58ad4418",
   "metadata": {},
   "outputs": [
    {
     "name": "stdout",
     "output_type": "stream",
     "text": [
      "{'retrieve': 0.013157894736842105, 'information': 0.02631578947368421, 'chat-bot': 0.013157894736842105, 'used': 0.013157894736842105, 'mainly': 0.02631578947368421, 'motivated': 0.013157894736842105, 'processing': 0.013157894736842105, 'user': 0.02631578947368421, 'queries': 0.02631578947368421, 'help': 0.013157894736842105, 'defined': 0.013157894736842105, 'text': 0.02631578947368421, 'document': 0.013157894736842105, 'go': 0.013157894736842105, 'either': 0.013157894736842105, 'based': 0.02631578947368421, 'retrieval': 0.02631578947368421, 'voice': 0.013157894736842105, 'matching': 0.013157894736842105, 'documentthis': 0.013157894736842105, 'project': 0.013157894736842105, 'provides': 0.013157894736842105, 'knowledge': 0.013157894736842105, 'institution': 0.013157894736842105, 'useful': 0.013157894736842105, 'students,': 0.013157894736842105, 'parents,': 0.013157894736842105, 'faculties,': 0.013157894736842105, 'external': 0.013157894736842105, 'users': 0.013157894736842105, 'ask': 0.013157894736842105, 'also': 0.013157894736842105, 'helpful': 0.013157894736842105, 'know': 0.013157894736842105, 'college': 0.013157894736842105, 'details': 0.013157894736842105, 'without': 0.013157894736842105, 'physical': 0.013157894736842105, 'contact': 0.013157894736842105}\n"
     ]
    }
   ],
   "source": [
    "tf_score = {}\n",
    "for each_word in total_words:\n",
    "    each_word = each_word.replace('.','')\n",
    "    if each_word not in stop_words:\n",
    "        if each_word in tf_score:\n",
    "            tf_score[each_word] += 1\n",
    "        else:\n",
    "            tf_score[each_word] = 1\n",
    "\n",
    "# Dividing by total_word_length for each dictionary element\n",
    "tf_score.update((x, y/int(total_word_length)) for x, y in tf_score.items())\n",
    "print(tf_score)"
   ]
  },
  {
   "cell_type": "code",
   "execution_count": 44,
   "id": "923780e1",
   "metadata": {},
   "outputs": [],
   "source": [
    "def check_sent(word, sentences): \n",
    "    final = [all([w in x for w in word]) for x in sentences] \n",
    "    sent_len = [sentences[i] for i in range(0, len(final)) if final[i]]\n",
    "    return int(len(sent_len))"
   ]
  },
  {
   "cell_type": "code",
   "execution_count": 45,
   "id": "68fd7d03",
   "metadata": {},
   "outputs": [
    {
     "name": "stdout",
     "output_type": "stream",
     "text": [
      "{'retrieve': 1.0986122886681098, 'information': 0.0, 'chat-bot': 1.0986122886681098, 'used': 1.0986122886681098, 'mainly': 0.4054651081081644, 'motivated': 1.0986122886681098, 'processing': 1.0986122886681098, 'user': 0.0, 'queries': 0.4054651081081644, 'help': 1.0986122886681098, 'defined': 1.0986122886681098, 'text': 0.0, 'document': 1.0986122886681098, 'go': 1.0986122886681098, 'either': 1.0986122886681098, 'based': 0.0, 'retrieval': 0.0, 'voice': 1.0986122886681098, 'matching': 1.0986122886681098, 'documentthis': 1.0986122886681098, 'project': 1.0986122886681098, 'provides': 1.0986122886681098, 'knowledge': 1.0986122886681098, 'institution': 1.0986122886681098, 'useful': 1.0986122886681098, 'students,': 1.0986122886681098, 'parents,': 1.0986122886681098, 'faculties,': 1.0986122886681098, 'external': 1.0986122886681098, 'users': 1.0986122886681098, 'ask': 1.0986122886681098, 'also': 1.0986122886681098, 'helpful': 1.0986122886681098, 'know': 1.0986122886681098, 'college': 1.0986122886681098, 'details': 1.0986122886681098, 'without': 1.0986122886681098, 'physical': 1.0986122886681098, 'contact': 1.0986122886681098}\n"
     ]
    }
   ],
   "source": [
    "idf_score = {}\n",
    "for each_word in total_words:\n",
    "    each_word = each_word.replace('.','')\n",
    "    if each_word not in stop_words:\n",
    "        if each_word in idf_score:\n",
    "            idf_score[each_word] = check_sent(each_word, total_sentences)\n",
    "        else:\n",
    "            idf_score[each_word] = 1\n",
    "\n",
    "# Performing a log and divide\n",
    "idf_score.update((x, math.log(int(total_sent_len)/y)) for x, y in idf_score.items())\n",
    "\n",
    "print(idf_score)"
   ]
  },
  {
   "cell_type": "code",
   "execution_count": 46,
   "id": "d53fb502",
   "metadata": {},
   "outputs": [
    {
     "name": "stdout",
     "output_type": "stream",
     "text": [
      "{'retrieve': 0.014455424850896181, 'information': 0.0, 'chat-bot': 0.014455424850896181, 'used': 0.014455424850896181, 'mainly': 0.010670134423899063, 'motivated': 0.014455424850896181, 'processing': 0.014455424850896181, 'user': 0.0, 'queries': 0.010670134423899063, 'help': 0.014455424850896181, 'defined': 0.014455424850896181, 'text': 0.0, 'document': 0.014455424850896181, 'go': 0.014455424850896181, 'either': 0.014455424850896181, 'based': 0.0, 'retrieval': 0.0, 'voice': 0.014455424850896181, 'matching': 0.014455424850896181, 'documentthis': 0.014455424850896181, 'project': 0.014455424850896181, 'provides': 0.014455424850896181, 'knowledge': 0.014455424850896181, 'institution': 0.014455424850896181, 'useful': 0.014455424850896181, 'students,': 0.014455424850896181, 'parents,': 0.014455424850896181, 'faculties,': 0.014455424850896181, 'external': 0.014455424850896181, 'users': 0.014455424850896181, 'ask': 0.014455424850896181, 'also': 0.014455424850896181, 'helpful': 0.014455424850896181, 'know': 0.014455424850896181, 'college': 0.014455424850896181, 'details': 0.014455424850896181, 'without': 0.014455424850896181, 'physical': 0.014455424850896181, 'contact': 0.014455424850896181}\n"
     ]
    }
   ],
   "source": [
    "tf_idf_score = {key: tf_score[key] * idf_score.get(key, 0) for key in tf_score.keys()}\n",
    "print(tf_idf_score)\n"
   ]
  },
  {
   "cell_type": "code",
   "execution_count": 47,
   "id": "a02cebce",
   "metadata": {},
   "outputs": [],
   "source": [
    "def get_top_n(dict_elem, n):\n",
    "    result = dict(sorted(dict_elem.items(), key = itemgetter(1), reverse = True)[:n]) \n",
    "    return result"
   ]
  },
  {
   "cell_type": "code",
   "execution_count": 48,
   "id": "d2bfd718",
   "metadata": {},
   "outputs": [
    {
     "name": "stdout",
     "output_type": "stream",
     "text": [
      "{'retrieve': 0.014455424850896181, 'chat-bot': 0.014455424850896181, 'used': 0.014455424850896181, 'motivated': 0.014455424850896181, 'processing': 0.014455424850896181, 'help': 0.014455424850896181, 'defined': 0.014455424850896181, 'document': 0.014455424850896181, 'go': 0.014455424850896181, 'either': 0.014455424850896181}\n"
     ]
    }
   ],
   "source": [
    "print(get_top_n(tf_idf_score, 10))"
   ]
  },
  {
   "cell_type": "code",
   "execution_count": null,
   "id": "1ed4bef5",
   "metadata": {},
   "outputs": [],
   "source": []
  }
 ],
 "metadata": {
  "kernelspec": {
   "display_name": "Python 3",
   "language": "python",
   "name": "python3"
  },
  "language_info": {
   "codemirror_mode": {
    "name": "ipython",
    "version": 3
   },
   "file_extension": ".py",
   "mimetype": "text/x-python",
   "name": "python",
   "nbconvert_exporter": "python",
   "pygments_lexer": "ipython3",
   "version": "3.8.8"
  }
 },
 "nbformat": 4,
 "nbformat_minor": 5
}
