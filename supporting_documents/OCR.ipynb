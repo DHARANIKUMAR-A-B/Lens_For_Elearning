{
 "cells": [
  {
   "cell_type": "code",
   "execution_count": 9,
   "metadata": {
    "colab": {
     "base_uri": "https://localhost:8080/"
    },
    "id": "lEp8jUrl4n2C",
    "outputId": "d0ccbd6a-095e-4b12-f247-bbc949ce397d"
   },
   "outputs": [
    {
     "name": "stderr",
     "output_type": "stream",
     "text": [
      "ERROR: Invalid requirement: 'ppa:alex-p/tesseract-ocr'\n"
     ]
    }
   ],
   "source": [
    "!sudo add-apt-repository ppa:alex-p/tesseract-ocr"
   ]
  },
  {
   "cell_type": "code",
   "execution_count": null,
   "metadata": {
    "colab": {
     "base_uri": "https://localhost:8080/"
    },
    "id": "YGlWuqbr7X-F",
    "outputId": "ec13be11-46a9-4bc4-a119-20416c2f8692"
   },
   "outputs": [
    {
     "name": "stdout",
     "output_type": "stream",
     "text": [
      "\r",
      "0% [Working]\r",
      "            \r",
      "Hit:1 https://cloud.r-project.org/bin/linux/ubuntu bionic-cran40/ InRelease\n",
      "Ign:2 https://developer.download.nvidia.com/compute/cuda/repos/ubuntu1804/x86_64  InRelease\n",
      "Ign:3 https://developer.download.nvidia.com/compute/machine-learning/repos/ubuntu1804/x86_64  InRelease\n",
      "Hit:4 http://ppa.launchpad.net/alex-p/tesseract-ocr/ubuntu bionic InRelease\n",
      "Hit:5 https://developer.download.nvidia.com/compute/cuda/repos/ubuntu1804/x86_64  Release\n",
      "Hit:6 http://archive.ubuntu.com/ubuntu bionic InRelease\n",
      "Hit:7 http://security.ubuntu.com/ubuntu bionic-security InRelease\n",
      "Hit:8 https://developer.download.nvidia.com/compute/machine-learning/repos/ubuntu1804/x86_64  Release\n",
      "Hit:10 http://archive.ubuntu.com/ubuntu bionic-updates InRelease\n",
      "Hit:11 http://archive.ubuntu.com/ubuntu bionic-backports InRelease\n",
      "Hit:12 http://ppa.launchpad.net/c2d4u.team/c2d4u4.0+/ubuntu bionic InRelease\n",
      "Hit:14 http://ppa.launchpad.net/cran/libgit2/ubuntu bionic InRelease\n",
      "Hit:15 http://ppa.launchpad.net/deadsnakes/ppa/ubuntu bionic InRelease\n",
      "Hit:16 http://ppa.launchpad.net/graphics-drivers/ppa/ubuntu bionic InRelease\n",
      "Reading package lists... Done\n"
     ]
    }
   ],
   "source": [
    "!sudo apt-get update"
   ]
  },
  {
   "cell_type": "code",
   "execution_count": null,
   "metadata": {
    "colab": {
     "base_uri": "https://localhost:8080/"
    },
    "id": "2Rs72EON7Y4_",
    "outputId": "06c1263e-7596-47bf-b79c-ecd575eaa943"
   },
   "outputs": [
    {
     "name": "stdout",
     "output_type": "stream",
     "text": [
      "Reading package lists... Done\n",
      "Building dependency tree       \n",
      "Reading state information... Done\n",
      "The following additional packages will be installed:\n",
      "  libtesseract4 tesseract-ocr-eng tesseract-ocr-osd\n",
      "The following NEW packages will be installed:\n",
      "  tesseract-ocr tesseract-ocr-eng tesseract-ocr-osd\n",
      "The following packages will be upgraded:\n",
      "  libtesseract4\n",
      "1 upgraded, 3 newly installed, 0 to remove and 62 not upgraded.\n",
      "Need to get 6,161 kB of archives.\n",
      "After this operation, 16.3 MB of additional disk space will be used.\n",
      "Get:1 http://ppa.launchpad.net/alex-p/tesseract-ocr/ubuntu bionic/main amd64 libtesseract4 amd64 4.1.1+git4259-c1a56cce-1ppa1~bionic1 [1,260 kB]\n",
      "Get:2 http://ppa.launchpad.net/alex-p/tesseract-ocr/ubuntu bionic/main amd64 tesseract-ocr-eng all 1:4.0.0+git39-6572757-1ppa1~bionic1 [1,589 kB]\n",
      "Get:3 http://ppa.launchpad.net/alex-p/tesseract-ocr/ubuntu bionic/main amd64 tesseract-ocr-osd all 1:4.0.0+git39-6572757-1ppa1~bionic1 [2,992 kB]\n",
      "Get:4 http://ppa.launchpad.net/alex-p/tesseract-ocr/ubuntu bionic/main amd64 tesseract-ocr amd64 4.1.1+git4259-c1a56cce-1ppa1~bionic1 [320 kB]\n",
      "Fetched 6,161 kB in 8s (797 kB/s)\n",
      "debconf: unable to initialize frontend: Dialog\n",
      "debconf: (No usable dialog-like program is installed, so the dialog based frontend cannot be used. at /usr/share/perl5/Debconf/FrontEnd/Dialog.pm line 76, <> line 4.)\n",
      "debconf: falling back to frontend: Readline\n",
      "debconf: unable to initialize frontend: Readline\n",
      "debconf: (This frontend requires a controlling tty.)\n",
      "debconf: falling back to frontend: Teletype\n",
      "dpkg-preconfigure: unable to re-open stdin: \n",
      "(Reading database ... 155219 files and directories currently installed.)\n",
      "Preparing to unpack .../libtesseract4_4.1.1+git4259-c1a56cce-1ppa1~bionic1_amd64.deb ...\n",
      "Unpacking libtesseract4:amd64 (4.1.1+git4259-c1a56cce-1ppa1~bionic1) over (4.00~git2288-10f4998a-2) ...\n",
      "Selecting previously unselected package tesseract-ocr-eng.\n",
      "Preparing to unpack .../tesseract-ocr-eng_1%3a4.0.0+git39-6572757-1ppa1~bionic1_all.deb ...\n",
      "Unpacking tesseract-ocr-eng (1:4.0.0+git39-6572757-1ppa1~bionic1) ...\n",
      "Selecting previously unselected package tesseract-ocr-osd.\n",
      "Preparing to unpack .../tesseract-ocr-osd_1%3a4.0.0+git39-6572757-1ppa1~bionic1_all.deb ...\n",
      "Unpacking tesseract-ocr-osd (1:4.0.0+git39-6572757-1ppa1~bionic1) ...\n",
      "Selecting previously unselected package tesseract-ocr.\n",
      "Preparing to unpack .../tesseract-ocr_4.1.1+git4259-c1a56cce-1ppa1~bionic1_amd64.deb ...\n",
      "Unpacking tesseract-ocr (4.1.1+git4259-c1a56cce-1ppa1~bionic1) ...\n",
      "Setting up libtesseract4:amd64 (4.1.1+git4259-c1a56cce-1ppa1~bionic1) ...\n",
      "Setting up tesseract-ocr-osd (1:4.0.0+git39-6572757-1ppa1~bionic1) ...\n",
      "Setting up tesseract-ocr-eng (1:4.0.0+git39-6572757-1ppa1~bionic1) ...\n",
      "Setting up tesseract-ocr (4.1.1+git4259-c1a56cce-1ppa1~bionic1) ...\n",
      "Processing triggers for man-db (2.8.3-2ubuntu0.1) ...\n",
      "Processing triggers for libc-bin (2.27-3ubuntu1.3) ...\n",
      "/sbin/ldconfig.real: /usr/local/lib/python3.7/dist-packages/ideep4py/lib/libmkldnn.so.0 is not a symbolic link\n",
      "\n"
     ]
    }
   ],
   "source": [
    "!sudo apt install tesseract-ocr"
   ]
  },
  {
   "cell_type": "code",
   "execution_count": null,
   "metadata": {
    "colab": {
     "base_uri": "https://localhost:8080/"
    },
    "id": "P5jid1Jv7etn",
    "outputId": "d0a64895-e7f4-4a0f-c764-708909cb6d42"
   },
   "outputs": [
    {
     "name": "stdout",
     "output_type": "stream",
     "text": [
      "Reading package lists... Done\n",
      "Building dependency tree       \n",
      "Reading state information... Done\n",
      "The following additional packages will be installed:\n",
      "  libarchive-dev liblept5 libleptonica-dev\n",
      "The following NEW packages will be installed:\n",
      "  libarchive-dev libleptonica-dev libtesseract-dev\n",
      "The following packages will be upgraded:\n",
      "  liblept5\n",
      "1 upgraded, 3 newly installed, 0 to remove and 61 not upgraded.\n",
      "Need to get 4,327 kB of archives.\n",
      "After this operation, 15.2 MB of additional disk space will be used.\n",
      "Get:1 http://ppa.launchpad.net/alex-p/tesseract-ocr/ubuntu bionic/main amd64 liblept5 amd64 1.78.0-1+nmu1ppa1~bionic1 [985 kB]\n",
      "Get:2 http://archive.ubuntu.com/ubuntu bionic-updates/main amd64 libarchive-dev amd64 3.2.2-3.1ubuntu0.7 [470 kB]\n",
      "Get:3 http://ppa.launchpad.net/alex-p/tesseract-ocr/ubuntu bionic/main amd64 libleptonica-dev amd64 1.78.0-1+nmu1ppa1~bionic1 [1,375 kB]\n",
      "Get:4 http://ppa.launchpad.net/alex-p/tesseract-ocr/ubuntu bionic/main amd64 libtesseract-dev amd64 4.1.1+git4259-c1a56cce-1ppa1~bionic1 [1,496 kB]\n",
      "Fetched 4,327 kB in 6s (735 kB/s)\n",
      "debconf: unable to initialize frontend: Dialog\n",
      "debconf: (No usable dialog-like program is installed, so the dialog based frontend cannot be used. at /usr/share/perl5/Debconf/FrontEnd/Dialog.pm line 76, <> line 4.)\n",
      "debconf: falling back to frontend: Readline\n",
      "debconf: unable to initialize frontend: Readline\n",
      "debconf: (This frontend requires a controlling tty.)\n",
      "debconf: falling back to frontend: Teletype\n",
      "dpkg-preconfigure: unable to re-open stdin: \n",
      "Selecting previously unselected package libarchive-dev:amd64.\n",
      "(Reading database ... 155271 files and directories currently installed.)\n",
      "Preparing to unpack .../libarchive-dev_3.2.2-3.1ubuntu0.7_amd64.deb ...\n",
      "Unpacking libarchive-dev:amd64 (3.2.2-3.1ubuntu0.7) ...\n",
      "Preparing to unpack .../liblept5_1.78.0-1+nmu1ppa1~bionic1_amd64.deb ...\n",
      "Unpacking liblept5 (1.78.0-1+nmu1ppa1~bionic1) over (1.75.3-3) ...\n",
      "Selecting previously unselected package libleptonica-dev.\n",
      "Preparing to unpack .../libleptonica-dev_1.78.0-1+nmu1ppa1~bionic1_amd64.deb ...\n",
      "Unpacking libleptonica-dev (1.78.0-1+nmu1ppa1~bionic1) ...\n",
      "Selecting previously unselected package libtesseract-dev:amd64.\n",
      "Preparing to unpack .../libtesseract-dev_4.1.1+git4259-c1a56cce-1ppa1~bionic1_amd64.deb ...\n",
      "Unpacking libtesseract-dev:amd64 (4.1.1+git4259-c1a56cce-1ppa1~bionic1) ...\n",
      "Setting up liblept5 (1.78.0-1+nmu1ppa1~bionic1) ...\n",
      "Setting up libarchive-dev:amd64 (3.2.2-3.1ubuntu0.7) ...\n",
      "Setting up libleptonica-dev (1.78.0-1+nmu1ppa1~bionic1) ...\n",
      "Setting up libtesseract-dev:amd64 (4.1.1+git4259-c1a56cce-1ppa1~bionic1) ...\n",
      "Processing triggers for libc-bin (2.27-3ubuntu1.3) ...\n",
      "/sbin/ldconfig.real: /usr/local/lib/python3.7/dist-packages/ideep4py/lib/libmkldnn.so.0 is not a symbolic link\n",
      "\n",
      "Processing triggers for man-db (2.8.3-2ubuntu0.1) ...\n"
     ]
    }
   ],
   "source": [
    "!sudo apt install libtesseract-dev"
   ]
  },
  {
   "cell_type": "code",
   "execution_count": null,
   "metadata": {
    "colab": {
     "base_uri": "https://localhost:8080/"
    },
    "id": "vYLuIXJO7fkh",
    "outputId": "96d7ada0-92b6-42d6-8a1b-1a552fe1fb47"
   },
   "outputs": [
    {
     "name": "stdout",
     "output_type": "stream",
     "text": [
      "Collecting pytesseract\n",
      "  Downloading pytesseract-0.3.8.tar.gz (14 kB)\n",
      "Requirement already satisfied: Pillow in /usr/local/lib/python3.7/dist-packages (from pytesseract) (7.1.2)\n",
      "Building wheels for collected packages: pytesseract\n",
      "  Building wheel for pytesseract (setup.py) ... \u001b[?25l\u001b[?25hdone\n",
      "  Created wheel for pytesseract: filename=pytesseract-0.3.8-py2.py3-none-any.whl size=14072 sha256=506a3b0897aaf7a67dd3bd0babe71a9608c41788e3349375178b793630ebda75\n",
      "  Stored in directory: /root/.cache/pip/wheels/a4/89/b9/3f11250225d0f90e5454fcc30fd1b7208db226850715aa9ace\n",
      "Successfully built pytesseract\n",
      "Installing collected packages: pytesseract\n",
      "Successfully installed pytesseract-0.3.8\n"
     ]
    }
   ],
   "source": [
    "!sudo pip install pytesseract"
   ]
  },
  {
   "cell_type": "code",
   "execution_count": 1,
   "metadata": {
    "colab": {
     "base_uri": "https://localhost:8080/"
    },
    "id": "tSaachhj7jWJ",
    "outputId": "374e082f-ca60-4e83-f259-85d8c8c63bcc"
   },
   "outputs": [
    {
     "name": "stderr",
     "output_type": "stream",
     "text": [
      "'tesseract' is not recognized as an internal or external command,\n",
      "operable program or batch file.\n"
     ]
    }
   ],
   "source": [
    "!tesseract --version"
   ]
  },
  {
   "cell_type": "code",
   "execution_count": null,
   "metadata": {
    "colab": {
     "base_uri": "https://localhost:8080/"
    },
    "id": "holWQWQA7muA",
    "outputId": "9ba07e92-c63b-4039-c434-d1972a290b14"
   },
   "outputs": [
    {
     "name": "stdout",
     "output_type": "stream",
     "text": [
      "Download complete!\n"
     ]
    }
   ],
   "source": [
    "#Image Downloader(From previous video.)\n",
    "import requests\n",
    "url = 'https://www.google.com/url?sa=i&url=https%3A%2F%2Fwww.oberlo.com%2Fblog%2Fmotivational-quotes&psig=AOvVaw0ZS3MbEgvT23H_w6UfZ2w_&ust=1636805291427000&source=images&cd=vfe&ved=0CAsQjRxqFwoTCNj5n4HlkvQCFQAAAAAdAAAAABA5'\n",
    "r = requests.get(url)\n",
    "\n",
    "filename = '1.jpg'\n",
    "\n",
    "with open(filename, 'wb') as out_file:\n",
    "    out_file.write(r.content)\n",
    "\n",
    "print(\"Download complete!\")"
   ]
  },
  {
   "cell_type": "code",
   "execution_count": 1,
   "metadata": {
    "colab": {
     "base_uri": "https://localhost:8080/",
     "height": 312
    },
    "id": "qZqANNnLDozN",
    "outputId": "2230183b-c724-495f-b0cb-794270feb857"
   },
   "outputs": [
    {
     "ename": "error",
     "evalue": "OpenCV(4.2.0) C:\\projects\\opencv-python\\opencv\\modules\\imgproc\\src\\color.cpp:182: error: (-215:Assertion failed) !_src.empty() in function 'cv::cvtColor'\n",
     "output_type": "error",
     "traceback": [
      "\u001b[1;31m---------------------------------------------------------------------------\u001b[0m",
      "\u001b[1;31merror\u001b[0m                                     Traceback (most recent call last)",
      "\u001b[1;32m<ipython-input-1-dd06203d150e>\u001b[0m in \u001b[0;36m<module>\u001b[1;34m\u001b[0m\n\u001b[0;32m     35\u001b[0m     \u001b[1;32mreturn\u001b[0m \u001b[0mresult\u001b[0m\u001b[1;33m\u001b[0m\u001b[1;33m\u001b[0m\u001b[0m\n\u001b[0;32m     36\u001b[0m \u001b[1;33m\u001b[0m\u001b[0m\n\u001b[1;32m---> 37\u001b[1;33m \u001b[0mprint\u001b[0m\u001b[1;33m(\u001b[0m\u001b[0mget_string\u001b[0m\u001b[1;33m(\u001b[0m\u001b[1;34m'1.jpg'\u001b[0m\u001b[1;33m)\u001b[0m\u001b[1;33m)\u001b[0m\u001b[1;33m\u001b[0m\u001b[1;33m\u001b[0m\u001b[0m\n\u001b[0m",
      "\u001b[1;32m<ipython-input-1-dd06203d150e>\u001b[0m in \u001b[0;36mget_string\u001b[1;34m(img_path)\u001b[0m\n\u001b[0;32m     11\u001b[0m \u001b[1;33m\u001b[0m\u001b[0m\n\u001b[0;32m     12\u001b[0m     \u001b[1;31m# Convert to gray\u001b[0m\u001b[1;33m\u001b[0m\u001b[1;33m\u001b[0m\u001b[1;33m\u001b[0m\u001b[0m\n\u001b[1;32m---> 13\u001b[1;33m     \u001b[0mimg\u001b[0m \u001b[1;33m=\u001b[0m \u001b[0mcv2\u001b[0m\u001b[1;33m.\u001b[0m\u001b[0mcvtColor\u001b[0m\u001b[1;33m(\u001b[0m\u001b[0mimg\u001b[0m\u001b[1;33m,\u001b[0m \u001b[0mcv2\u001b[0m\u001b[1;33m.\u001b[0m\u001b[0mCOLOR_BGR2GRAY\u001b[0m\u001b[1;33m)\u001b[0m\u001b[1;33m\u001b[0m\u001b[1;33m\u001b[0m\u001b[0m\n\u001b[0m\u001b[0;32m     14\u001b[0m \u001b[1;33m\u001b[0m\u001b[0m\n\u001b[0;32m     15\u001b[0m     \u001b[1;31m# Apply dilation and erosion to remove some noise\u001b[0m\u001b[1;33m\u001b[0m\u001b[1;33m\u001b[0m\u001b[1;33m\u001b[0m\u001b[0m\n",
      "\u001b[1;31merror\u001b[0m: OpenCV(4.2.0) C:\\projects\\opencv-python\\opencv\\modules\\imgproc\\src\\color.cpp:182: error: (-215:Assertion failed) !_src.empty() in function 'cv::cvtColor'\n"
     ]
    }
   ],
   "source": [
    "import cv2\n",
    "import numpy as np\n",
    "import pytesseract\n",
    "from PIL import Image\n",
    "\n",
    "# Path of working folder on Disk\n",
    "\n",
    "def get_string(img_path):\n",
    "    # Read image with opencv\n",
    "    img = cv2.imread(img_path)\n",
    "\n",
    "    # Convert to gray\n",
    "    img = cv2.cvtColor(img, cv2.COLOR_BGR2GRAY)\n",
    "\n",
    "    # Apply dilation and erosion to remove some noise\n",
    "    kernel = np.ones((1, 1), np.uint8)\n",
    "    img = cv2.dilate(img, kernel, iterations=1)\n",
    "    img = cv2.erode(img, kernel, iterations=1)\n",
    "\n",
    "    # Write image after removed noise\n",
    "    cv2.imwrite(\"removed_noise.png\", img)\n",
    "\n",
    "    # Apply threshold to get image with only black and white\n",
    "    #img = cv2.adaptiveThreshold(img, 255, cv2.ADAPTIVE_THRESH_GAUSSIAN_C, cv2.THRESH_BINARY, 31, 2)\n",
    "\n",
    "    # Write the image after apply opencv to do some ...\n",
    "    cv2.imwrite(img_path, img)\n",
    "\n",
    "    # Recognize text with tesseract for python\n",
    "    result = pytesseract.image_to_string(Image.open(img_path))\n",
    "\n",
    "    # Remove template file\n",
    "    #os.remove(temp)\n",
    "\n",
    "    return result\n",
    "\n",
    "print(get_string('1.jpg'))"
   ]
  },
  {
   "cell_type": "code",
   "execution_count": null,
   "metadata": {
    "id": "Y1x9rOfoI7Bl"
   },
   "outputs": [],
   "source": []
  }
 ],
 "metadata": {
  "accelerator": "GPU",
  "colab": {
   "collapsed_sections": [],
   "name": "OCR.ipynb",
   "provenance": []
  },
  "kernelspec": {
   "display_name": "Python 3",
   "language": "python",
   "name": "python3"
  },
  "language_info": {
   "codemirror_mode": {
    "name": "ipython",
    "version": 3
   },
   "file_extension": ".py",
   "mimetype": "text/x-python",
   "name": "python",
   "nbconvert_exporter": "python",
   "pygments_lexer": "ipython3",
   "version": "3.8.8"
  }
 },
 "nbformat": 4,
 "nbformat_minor": 1
}
