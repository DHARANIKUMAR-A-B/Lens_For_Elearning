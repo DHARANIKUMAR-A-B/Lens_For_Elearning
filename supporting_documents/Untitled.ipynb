{
 "cells": [
  {
   "cell_type": "code",
   "execution_count": 1,
   "id": "d650625b",
   "metadata": {},
   "outputs": [],
   "source": [
    "#Importing libraries\n",
    "import numpy as np\n",
    "import pandas as pd\n",
    "import cv2 \n",
    "import pytesseract as pt\n",
    "from PIL import Image\n",
    "pt.pytesseract.tesseract_cmd = r\"C:\\Program Files\\Tesseract-OCR\\tesseract\""
   ]
  },
  {
   "cell_type": "code",
   "execution_count": 2,
   "id": "b17f7854",
   "metadata": {},
   "outputs": [],
   "source": [
    "#OCR\n",
    "def img_txt(img_path):\n",
    "    global text\n",
    "    img = cv2.imread(img_path)\n",
    "    img = cv2.resize(img, None, fx = 1,fy = 1)\n",
    "    kernel = np.ones((1, 1), np.uint8)\n",
    "    img = cv2.dilate(img, kernel, iterations=1)\n",
    "    img = cv2.erode(img, kernel, iterations=1)\n",
    "    blurred=cv2.GaussianBlur(img,(5,5),0)\n",
    "    edged=cv2.Canny(blurred,30,50)\n",
    "    gray = cv2.cvtColor(img,cv2.COLOR_BGR2GRAY)\n",
    "    adpt = cv2.adaptiveThreshold(gray,255,cv2.ADAPTIVE_THRESH_GAUSSIAN_C,cv2.THRESH_BINARY, 85,10)\n",
    "    text = pt.image_to_string(adpt)\n",
    "    text = text.replace('\\n',' ')\n",
    "    print(text)\n",
    "    cv2.imshow(\"adaptive threshold\",adpt)\n",
    "    cv2.waitKey(0)"
   ]
  },
  {
   "cell_type": "code",
   "execution_count": 3,
   "id": "0099b69a",
   "metadata": {},
   "outputs": [],
   "source": [
    "#Load the image from local file\n",
    "img_name = r'C:\\Users\\ROSHINI R S\\Downloads\\pdfextraction.jpeg'"
   ]
  },
  {
   "cell_type": "code",
   "execution_count": null,
   "id": "2bd220bc",
   "metadata": {},
   "outputs": [
    {
     "name": "stdout",
     "output_type": "stream",
     "text": [
      "Scanned text:\n",
      "\n",
      "Chapter 1. The Way of the Program     The goal of this book is to teach you to think like a computer scientist, This way of thinking combines some of the best features of mathematics, engineering, and natural science, Like mathematicians, computer scientists use formal languages to denote ideas (specifically computations). Like engineers, they design things, assembling components into systems and evaluating tradeoffs among altematives. Like scientists, they observe the behavior of complex systems, form hypotheses, and test predictions,  The single most important skill for a computer scientist is problem solving. Problem solving means the ability to formulate problems, think creatively about solutions, and express a solution clearly and accurately. As it tums out, the process of learning to program is an excellent opportunity to practice problem-solving skills. That’s why this chapter is called “The Way of the Program”,  ‘On one level, you will be learning to program, a useful skill by itself. On another level,  you will use programming as a means to an end. As we go along, that end will become clearer, \f",
      "\n"
     ]
    }
   ],
   "source": [
    "print(\"Scanned text:\\n\")\n",
    "s = img_txt(img_name)"
   ]
  },
  {
   "cell_type": "code",
   "execution_count": null,
   "id": "5786b2cb",
   "metadata": {},
   "outputs": [],
   "source": [
    "# import packages\n",
    "import PyPDF2\n",
    "import re\n",
    "\n",
    "# open the pdf file\n",
    "object = PyPDF2.PdfFileReader(r'C:\\Users\\ROSHINI R S\\Downloads\\Think Python_How to Think Like a Computer Scientist.pdf')\n",
    "\n",
    "# get number of pages\n",
    "NumPages = object.getNumPages()\n",
    "\n",
    "# define keyterms\n",
    "String = \"The Way of the Program     The goal of this book is to teach you to think like a computer scientist, This way of thinking combines some of the best features of mathematics, engineering, and natural science, Like mathematicians, computer scientists use formal languages to denote ideas (specifically computations). Like engineers, they design things, assembling components into systems and evaluating tradeoffs among altematives. Like scientists, they observe the behavior of complex systems, form hypotheses, and test predictions,  The single most important skill for a computer scientist is problem solving. Problem solving means the ability to formulate problems, think creatively about solutions, and express a solution clearly and accurately. As it tums out, the process of learning to program is an excellent opportunity to practice problem-solving skills. That’s why this chapter is called “The Way of the Program”,  ‘On one level, you will be learning to program, a useful skill by itself. On another level,  you will use programming as a means to an end. As we go along, that end will become clearer, \"\n",
    "\n",
    "# extract text and do the search\n",
    "for i in range(0, NumPages):\n",
    "    PageObj = object.getPage(i)\n",
    "    print(\"this is page \" + str(i)) \n",
    "    Text = PageObj.extractText() \n",
    "    # print(Text)\n",
    "    ResSearch = re.search(String, Text)\n",
    "    print(ResSearch)"
   ]
  },
  {
   "cell_type": "code",
   "execution_count": null,
   "id": "37c38d43",
   "metadata": {},
   "outputs": [],
   "source": []
  }
 ],
 "metadata": {
  "kernelspec": {
   "display_name": "Python 3",
   "language": "python",
   "name": "python3"
  },
  "language_info": {
   "codemirror_mode": {
    "name": "ipython",
    "version": 3
   },
   "file_extension": ".py",
   "mimetype": "text/x-python",
   "name": "python",
   "nbconvert_exporter": "python",
   "pygments_lexer": "ipython3",
   "version": "3.8.8"
  }
 },
 "nbformat": 4,
 "nbformat_minor": 5
}
